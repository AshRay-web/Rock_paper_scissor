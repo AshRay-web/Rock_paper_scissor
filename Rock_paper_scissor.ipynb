{
 "cells": [
  {
   "cell_type": "code",
   "execution_count": 1,
   "id": "09748e2f-4531-4dff-a578-d125bbfe51e7",
   "metadata": {},
   "outputs": [
    {
     "name": "stderr",
     "output_type": "stream",
     "text": [
      "2024-06-28 23:17:46.659720: I tensorflow/core/util/port.cc:110] oneDNN custom operations are on. You may see slightly different numerical results due to floating-point round-off errors from different computation orders. To turn them off, set the environment variable `TF_ENABLE_ONEDNN_OPTS=0`.\n",
      "2024-06-28 23:17:46.691038: I tensorflow/tsl/cuda/cudart_stub.cc:28] Could not find cuda drivers on your machine, GPU will not be used.\n",
      "2024-06-28 23:17:46.867092: I tensorflow/tsl/cuda/cudart_stub.cc:28] Could not find cuda drivers on your machine, GPU will not be used.\n",
      "2024-06-28 23:17:46.868577: I tensorflow/core/platform/cpu_feature_guard.cc:182] This TensorFlow binary is optimized to use available CPU instructions in performance-critical operations.\n",
      "To enable the following instructions: AVX2 AVX512F AVX512_VNNI FMA, in other operations, rebuild TensorFlow with the appropriate compiler flags.\n",
      "2024-06-28 23:17:47.622612: W tensorflow/compiler/tf2tensorrt/utils/py_utils.cc:38] TF-TRT Warning: Could not find TensorRT\n"
     ]
    }
   ],
   "source": [
    "import cv2 as cv\n",
    "import mediapipe as mp "
   ]
  },
  {
   "cell_type": "code",
   "execution_count": 2,
   "id": "b3a12db8-e31c-4448-9a5c-cf35f4d4198f",
   "metadata": {},
   "outputs": [],
   "source": [
    "mp_drawing = mp.solutions.drawing_utils\n",
    "mp_drawing_styles = mp.solutions.drawing_styles\n",
    "mp_hands = mp.solutions.hands #this is the actual model \n",
    "\n",
    "\n",
    "#Also in CV y axis is increasing downwards and decreasing upward\n",
    "#We are here defining a function to tell what are the hand position invovled.\n",
    "\n",
    "\n",
    "def getHandMove(hand_landmarks):\n",
    "    landmarks= hand_landmarks.landmark\n",
    "    if all([landmarks[i].y < landmarks[i+3].y for i in range (9,20,4)]):return \"rock\"   #this is from the mediapipe figure\n",
    "    elif landmarks[13].y < landmarks[16].y and landmarks[17].y<landmarks[20].y:return \"scissors\"\n",
    "    else:return \"paper\"\n",
    "    \n"
   ]
  },
  {
   "cell_type": "markdown",
   "id": "1a64c790-70f3-4bb2-a877-5135d2483992",
   "metadata": {},
   "source": [
    "Now we are setting up the camera\n"
   ]
  },
  {
   "cell_type": "code",
   "execution_count": 3,
   "id": "f3390a69-dd83-475b-9e57-d0065a7a1e66",
   "metadata": {},
   "outputs": [],
   "source": [
    "clock=0\n",
    "p1_move=p2_move=None\n",
    "gameText=\"\"\n",
    "success=True "
   ]
  },
  {
   "cell_type": "code",
   "execution_count": 4,
   "id": "211e6e6c-9029-4e81-aa0b-f81b4f05acf6",
   "metadata": {},
   "outputs": [
    {
     "name": "stderr",
     "output_type": "stream",
     "text": [
      "Warning: Ignoring XDG_SESSION_TYPE=wayland on Gnome. Use QT_QPA_PLATFORM=wayland to run on Wayland anyway.\n",
      "WARNING: All log messages before absl::InitializeLog() is called are written to STDERR\n",
      "I0000 00:00:1719595969.966934   40707 gl_context_egl.cc:85] Successfully initialized EGL. Major : 1 Minor: 5\n",
      "I0000 00:00:1719595969.969498   40766 gl_context.cc:357] GL version: 3.2 (OpenGL ES 3.2 Mesa 23.2.1-1ubuntu3.1~22.04.2), renderer: Mesa Intel(R) UHD Graphics (TGL GT2)\n",
      "INFO: Created TensorFlow Lite XNNPACK delegate for CPU.\n",
      "W0000 00:00:1719595969.998945   40755 inference_feedback_manager.cc:114] Feedback manager requires a model with a single signature inference. Disabling support for feedback tensors.\n",
      "W0000 00:00:1719595970.005895   40758 inference_feedback_manager.cc:114] Feedback manager requires a model with a single signature inference. Disabling support for feedback tensors.\n",
      "/home/aasharya/.local/lib/python3.10/site-packages/google/protobuf/symbol_database.py:55: UserWarning: SymbolDatabase.GetPrototype() is deprecated. Please use message_factory.GetMessageClass() instead. SymbolDatabase.GetPrototype() will be removed soon.\n",
      "  warnings.warn('SymbolDatabase.GetPrototype() is deprecated. Please '\n"
     ]
    }
   ],
   "source": [
    "vid = cv.VideoCapture(0)\n",
    "\n",
    "\n",
    "cv.namedWindow('frame', cv.WINDOW_NORMAL)\n",
    "\n",
    "# Resize the window to the desired size (width, height)\n",
    "cv.resizeWindow('frame', 800, 600)\n",
    "font_scale = 0.5\n",
    "\n",
    "with mp_hands.Hands(model_complexity=0,min_detection_confidence = 0.5,min_tracking_confidence=0.5) as hands:\n",
    "    while True:\n",
    "        ret,frame = vid.read()\n",
    "        if not ret or frame is None:break  ## now we change into rgb colour as it is BGR\n",
    "\n",
    "        frame= cv.cvtColor(frame,cv.COLOR_BGR2RGB)\n",
    "        results=hands.process(frame) #This runs model and find where our hand are\n",
    "\n",
    "        frame=cv.cvtColor(frame,cv.COLOR_RGB2BGR) #revoting to same colour\n",
    "\n",
    "        if results.multi_hand_landmarks:      #superimposing landmarks into the hands\n",
    "            for hand_landmarks in results.multi_hand_landmarks:\n",
    "                mp_drawing.draw_landmarks(frame,hand_landmarks,mp_hands.HAND_CONNECTIONS,\n",
    "                                          mp_drawing_styles.get_default_hand_landmarks_style(),\n",
    "                                          mp_drawing_styles.get_default_hand_connections_style())\n",
    "        frame=cv.flip(frame,1) #this is to flip the camera \n",
    "\n",
    "\n",
    "        if 0<= clock <20:\n",
    "            success=True\n",
    "            gameText=\"Ready?\"\n",
    "        elif clock <30: gameText=\"3...\"\n",
    "        elif clock <40: gameText=\"2...\"\n",
    "        elif clock <50: gameText=\"1...\"    \n",
    "        elif clock <60: gameText=\"GO!!\"\n",
    "        elif clock == 60:\n",
    "            hls= results.multi_hand_landmarks    #here we do hand detection\n",
    "            if hls and len(hls)==2:              #checking if hls is actual or null object and if not empty is there 2 hands\n",
    "                p1_move= getHandMove(hls[0])\n",
    "                p2_move = getHandMove(hls[1])\n",
    "            else:\n",
    "                success=False\n",
    "\n",
    "        \n",
    "        elif clock <100:\n",
    "            if success:\n",
    "                gameText=f\"Played 1 played {p1_move}. Player 2 played {p2_move}.\"\n",
    "                if p1_move == p2_move:gameText =f\"{gameText} Game is tied\"\n",
    "                elif p1_move =='paper' and p2_move == 'rock':gameText=f'{gameText} Player 1 wins.'\n",
    "                elif p1_move =='rock' and p2_move == 'scissors':gameText=f'{gameText} Player 1 wins.'\n",
    "                elif p1_move =='scissors' and p2_move == 'paper':gameText=f'{gameText} Player 1 wins.'\n",
    "                else: gameText=f'{gameText} Player 2 wins.'\n",
    "            else:\n",
    "                gameText=\"Didn't play properly!\"\n",
    "        \n",
    "        cv.putText(frame,f'Clock:{clock}',(50,50),cv.FONT_HERSHEY_PLAIN,1,(0,255,255),1,cv.LINE_AA)\n",
    "        cv.putText(frame,gameText,(50,80),cv.FONT_HERSHEY_PLAIN,1,(0,255,255),1,cv.LINE_AA)\n",
    "        clock=(clock+1) % 100\n",
    "        cv.imshow('frame',frame)\n",
    "        \n",
    "        if cv.waitKey(1) & 0xFF==ord('q'):break  ##This is to close the camera type q\n",
    "vid.release()\n",
    "cv.destroyAllWindows()\n",
    "\n",
    "\n",
    "\n",
    "\n"
   ]
  },
  {
   "cell_type": "code",
   "execution_count": null,
   "id": "715fc099-2890-48eb-883e-deba2672cb59",
   "metadata": {},
   "outputs": [],
   "source": []
  }
 ],
 "metadata": {
  "kernelspec": {
   "display_name": "Python 3 (ipykernel)",
   "language": "python",
   "name": "python3"
  },
  "language_info": {
   "codemirror_mode": {
    "name": "ipython",
    "version": 3
   },
   "file_extension": ".py",
   "mimetype": "text/x-python",
   "name": "python",
   "nbconvert_exporter": "python",
   "pygments_lexer": "ipython3",
   "version": "3.10.12"
  }
 },
 "nbformat": 4,
 "nbformat_minor": 5
}
